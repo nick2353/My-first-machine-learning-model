{
  "cells": [
    {
      "metadata": {
        "_uuid": "b6269c0e8f417f82daf093dda8fa0da6d2c57d86",
        "_cell_guid": "e81ee64d-e474-4662-9036-ce23df615199"
      },
      "cell_type": "markdown",
      "source": "# Introduction\n**This will be your workspace for Kaggle's Machine Learning education track.**\n\nYou will build and continually improve a model to predict housing prices as you work through each tutorial.  Fork this notebook and write your code in it.\n\nThe data from the tutorial, the Melbourne data, is not available in this workspace.  You will need to translate the concepts to work with the data in this notebook, the Iowa data.\n\nCome to the [Learn Discussion](https://www.kaggle.com/learn-forum) forum for any questions or comments. \n\n# Write Your Code Below\n\n"
    },
    {
      "metadata": {
        "collapsed": true,
        "_uuid": "1c728098629e1301643443b1341556a15c089b2b",
        "_cell_guid": "86b26423-563a-4fa1-a595-89e25ff93089",
        "trusted": false
      },
      "cell_type": "code",
      "source": "import pandas as pd\n\nmain_file_path = '../input/train.csv'\ndata = pd.read_csv(main_file_path)\nprint('hello world')",
      "execution_count": null,
      "outputs": []
    },
    {
      "metadata": {
        "trusted": true,
        "collapsed": true,
        "_uuid": "64026e2608a3480f15b0c36b93c8f4f5e6229c86"
      },
      "cell_type": "code",
      "source": "import pandas as pd",
      "execution_count": 2,
      "outputs": []
    },
    {
      "metadata": {
        "trusted": true,
        "scrolled": true,
        "_uuid": "ca78f1c3c9b63b3cb1943515c57a36cfb3815cb4"
      },
      "cell_type": "code",
      "source": "# save file path to variable for easier access\nmelbourne_file_path = '../input/train.csv'\n# read the data and save the data in Dataframe title melbourne_data\nmelbourne_data = pd.read_csv(melbourne_file_path)\n# print a summary of data in melbourne_data\nprint(melbourne_data.describe())\n",
      "execution_count": 4,
      "outputs": [
        {
          "output_type": "stream",
          "text": "                Id   MSSubClass  LotFrontage        LotArea  OverallQual  \\\ncount  1460.000000  1460.000000  1201.000000    1460.000000  1460.000000   \nmean    730.500000    56.897260    70.049958   10516.828082     6.099315   \nstd     421.610009    42.300571    24.284752    9981.264932     1.382997   \nmin       1.000000    20.000000    21.000000    1300.000000     1.000000   \n25%     365.750000    20.000000    59.000000    7553.500000     5.000000   \n50%     730.500000    50.000000    69.000000    9478.500000     6.000000   \n75%    1095.250000    70.000000    80.000000   11601.500000     7.000000   \nmax    1460.000000   190.000000   313.000000  215245.000000    10.000000   \n\n       OverallCond    YearBuilt  YearRemodAdd   MasVnrArea   BsmtFinSF1  \\\ncount  1460.000000  1460.000000   1460.000000  1452.000000  1460.000000   \nmean      5.575342  1971.267808   1984.865753   103.685262   443.639726   \nstd       1.112799    30.202904     20.645407   181.066207   456.098091   \nmin       1.000000  1872.000000   1950.000000     0.000000     0.000000   \n25%       5.000000  1954.000000   1967.000000     0.000000     0.000000   \n50%       5.000000  1973.000000   1994.000000     0.000000   383.500000   \n75%       6.000000  2000.000000   2004.000000   166.000000   712.250000   \nmax       9.000000  2010.000000   2010.000000  1600.000000  5644.000000   \n\n           ...         WoodDeckSF  OpenPorchSF  EnclosedPorch    3SsnPorch  \\\ncount      ...        1460.000000  1460.000000    1460.000000  1460.000000   \nmean       ...          94.244521    46.660274      21.954110     3.409589   \nstd        ...         125.338794    66.256028      61.119149    29.317331   \nmin        ...           0.000000     0.000000       0.000000     0.000000   \n25%        ...           0.000000     0.000000       0.000000     0.000000   \n50%        ...           0.000000    25.000000       0.000000     0.000000   \n75%        ...         168.000000    68.000000       0.000000     0.000000   \nmax        ...         857.000000   547.000000     552.000000   508.000000   \n\n       ScreenPorch     PoolArea       MiscVal       MoSold       YrSold  \\\ncount  1460.000000  1460.000000   1460.000000  1460.000000  1460.000000   \nmean     15.060959     2.758904     43.489041     6.321918  2007.815753   \nstd      55.757415    40.177307    496.123024     2.703626     1.328095   \nmin       0.000000     0.000000      0.000000     1.000000  2006.000000   \n25%       0.000000     0.000000      0.000000     5.000000  2007.000000   \n50%       0.000000     0.000000      0.000000     6.000000  2008.000000   \n75%       0.000000     0.000000      0.000000     8.000000  2009.000000   \nmax     480.000000   738.000000  15500.000000    12.000000  2010.000000   \n\n           SalePrice  \ncount    1460.000000  \nmean   180921.195890  \nstd     79442.502883  \nmin     34900.000000  \n25%    129975.000000  \n50%    163000.000000  \n75%    214000.000000  \nmax    755000.000000  \n\n[8 rows x 38 columns]\n",
          "name": "stdout"
        }
      ]
    },
    {
      "metadata": {
        "trusted": true,
        "scrolled": true,
        "_uuid": "7d5cd5e7a5c85fcb828fc911e1cc342467246e89"
      },
      "cell_type": "code",
      "source": "import pandas as pd\nmelbourne_file_path = '../input/train.csv'\nmelbourne_data = pd.read_csv(melbourne_file_path)\nprint(melbourne_data.columns)",
      "execution_count": 5,
      "outputs": [
        {
          "output_type": "stream",
          "text": "Index(['Id', 'MSSubClass', 'MSZoning', 'LotFrontage', 'LotArea', 'Street',\n       'Alley', 'LotShape', 'LandContour', 'Utilities', 'LotConfig',\n       'LandSlope', 'Neighborhood', 'Condition1', 'Condition2', 'BldgType',\n       'HouseStyle', 'OverallQual', 'OverallCond', 'YearBuilt', 'YearRemodAdd',\n       'RoofStyle', 'RoofMatl', 'Exterior1st', 'Exterior2nd', 'MasVnrType',\n       'MasVnrArea', 'ExterQual', 'ExterCond', 'Foundation', 'BsmtQual',\n       'BsmtCond', 'BsmtExposure', 'BsmtFinType1', 'BsmtFinSF1',\n       'BsmtFinType2', 'BsmtFinSF2', 'BsmtUnfSF', 'TotalBsmtSF', 'Heating',\n       'HeatingQC', 'CentralAir', 'Electrical', '1stFlrSF', '2ndFlrSF',\n       'LowQualFinSF', 'GrLivArea', 'BsmtFullBath', 'BsmtHalfBath', 'FullBath',\n       'HalfBath', 'BedroomAbvGr', 'KitchenAbvGr', 'KitchenQual',\n       'TotRmsAbvGrd', 'Functional', 'Fireplaces', 'FireplaceQu', 'GarageType',\n       'GarageYrBlt', 'GarageFinish', 'GarageCars', 'GarageArea', 'GarageQual',\n       'GarageCond', 'PavedDrive', 'WoodDeckSF', 'OpenPorchSF',\n       'EnclosedPorch', '3SsnPorch', 'ScreenPorch', 'PoolArea', 'PoolQC',\n       'Fence', 'MiscFeature', 'MiscVal', 'MoSold', 'YrSold', 'SaleType',\n       'SaleCondition', 'SalePrice'],\n      dtype='object')\n",
          "name": "stdout"
        }
      ]
    },
    {
      "metadata": {
        "trusted": true,
        "_uuid": "c9bb1e5c08ceee8ff3d0c72a69b09a5deef754f7"
      },
      "cell_type": "code",
      "source": "# store the  series of prices seperatly as melbourne_price_data \nmelbourne_SalePrice_data = melbourne_data.SalePrice\n# the head command returns top few lines of data\nprint(melbourne_SalePrice_data.head())",
      "execution_count": 10,
      "outputs": [
        {
          "output_type": "stream",
          "text": "0    208500\n1    181500\n2    223500\n3    140000\n4    250000\nName: SalePrice, dtype: int64\n",
          "name": "stdout"
        }
      ]
    },
    {
      "metadata": {
        "trusted": true,
        "_uuid": "6e1f84e48a3b7fd51b767f013ddaec968f027c04"
      },
      "cell_type": "code",
      "source": "columns_of_interest = ['LotArea' , 'GarageArea']\ntwo_columns_of_data = melbourne_data[columns_of_interest]\n                                     ",
      "execution_count": 14,
      "outputs": []
    },
    {
      "metadata": {
        "trusted": true,
        "_uuid": "c913b4e0c23cd2dbfa3ef297cf804650e086bb3c"
      },
      "cell_type": "code",
      "source": "two_columns_of_data.describe()\n",
      "execution_count": 18,
      "outputs": [
        {
          "output_type": "execute_result",
          "execution_count": 18,
          "data": {
            "text/plain": "             LotArea   GarageArea\ncount    1460.000000  1460.000000\nmean    10516.828082   472.980137\nstd      9981.264932   213.804841\nmin      1300.000000     0.000000\n25%      7553.500000   334.500000\n50%      9478.500000   480.000000\n75%     11601.500000   576.000000\nmax    215245.000000  1418.000000",
            "text/html": "<div>\n<style scoped>\n    .dataframe tbody tr th:only-of-type {\n        vertical-align: middle;\n    }\n\n    .dataframe tbody tr th {\n        vertical-align: top;\n    }\n\n    .dataframe thead th {\n        text-align: right;\n    }\n</style>\n<table border=\"1\" class=\"dataframe\">\n  <thead>\n    <tr style=\"text-align: right;\">\n      <th></th>\n      <th>LotArea</th>\n      <th>GarageArea</th>\n    </tr>\n  </thead>\n  <tbody>\n    <tr>\n      <th>count</th>\n      <td>1460.000000</td>\n      <td>1460.000000</td>\n    </tr>\n    <tr>\n      <th>mean</th>\n      <td>10516.828082</td>\n      <td>472.980137</td>\n    </tr>\n    <tr>\n      <th>std</th>\n      <td>9981.264932</td>\n      <td>213.804841</td>\n    </tr>\n    <tr>\n      <th>min</th>\n      <td>1300.000000</td>\n      <td>0.000000</td>\n    </tr>\n    <tr>\n      <th>25%</th>\n      <td>7553.500000</td>\n      <td>334.500000</td>\n    </tr>\n    <tr>\n      <th>50%</th>\n      <td>9478.500000</td>\n      <td>480.000000</td>\n    </tr>\n    <tr>\n      <th>75%</th>\n      <td>11601.500000</td>\n      <td>576.000000</td>\n    </tr>\n    <tr>\n      <th>max</th>\n      <td>215245.000000</td>\n      <td>1418.000000</td>\n    </tr>\n  </tbody>\n</table>\n</div>"
          },
          "metadata": {}
        }
      ]
    }
  ],
  "metadata": {
    "language_info": {
      "name": "python",
      "version": "3.6.4",
      "mimetype": "text/x-python",
      "codemirror_mode": {
        "name": "ipython",
        "version": 3
      },
      "pygments_lexer": "ipython3",
      "nbconvert_exporter": "python",
      "file_extension": ".py"
    },
    "kernelspec": {
      "display_name": "Python 3",
      "language": "python",
      "name": "python3"
    }
  },
  "nbformat": 4,
  "nbformat_minor": 1
}